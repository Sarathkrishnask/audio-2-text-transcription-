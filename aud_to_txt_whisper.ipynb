{
  "nbformat": 4,
  "nbformat_minor": 0,
  "metadata": {
    "colab": {
      "provenance": [],
      "gpuType": "T4"
    },
    "kernelspec": {
      "name": "python3",
      "display_name": "Python 3"
    },
    "language_info": {
      "name": "python"
    },
    "accelerator": "GPU"
  },
  "cells": [
    {
      "cell_type": "code",
      "execution_count": null,
      "metadata": {
        "colab": {
          "base_uri": "https://localhost:8080/"
        },
        "id": "NVqhsk72q5Zh",
        "outputId": "5a09f6e5-c29e-4ba8-8a56-2b95579fa453"
      },
      "outputs": [
        {
          "output_type": "stream",
          "name": "stdout",
          "text": [
            "Collecting git+https://github.com/openai/whisper.git\n",
            "  Cloning https://github.com/openai/whisper.git to /tmp/pip-req-build-qe20a9mw\n",
            "  Running command git clone --filter=blob:none --quiet https://github.com/openai/whisper.git /tmp/pip-req-build-qe20a9mw\n",
            "  Resolved https://github.com/openai/whisper.git to commit c0d2f624c09dc18e709e37c2ad90c039a4eb72a2\n",
            "  Installing build dependencies ... \u001b[?25l\u001b[?25hdone\n",
            "  Getting requirements to build wheel ... \u001b[?25l\u001b[?25hdone\n",
            "  Preparing metadata (pyproject.toml) ... \u001b[?25l\u001b[?25hdone\n",
            "Requirement already satisfied: more-itertools in /usr/local/lib/python3.11/dist-packages (from openai-whisper==20250625) (10.7.0)\n",
            "Requirement already satisfied: numba in /usr/local/lib/python3.11/dist-packages (from openai-whisper==20250625) (0.60.0)\n",
            "Requirement already satisfied: numpy in /usr/local/lib/python3.11/dist-packages (from openai-whisper==20250625) (2.0.2)\n",
            "Requirement already satisfied: tiktoken in /usr/local/lib/python3.11/dist-packages (from openai-whisper==20250625) (0.9.0)\n",
            "Requirement already satisfied: torch in /usr/local/lib/python3.11/dist-packages (from openai-whisper==20250625) (2.6.0+cu124)\n",
            "Requirement already satisfied: tqdm in /usr/local/lib/python3.11/dist-packages (from openai-whisper==20250625) (4.67.1)\n",
            "Requirement already satisfied: triton>=2 in /usr/local/lib/python3.11/dist-packages (from openai-whisper==20250625) (3.2.0)\n",
            "Requirement already satisfied: llvmlite<0.44,>=0.43.0dev0 in /usr/local/lib/python3.11/dist-packages (from numba->openai-whisper==20250625) (0.43.0)\n",
            "Requirement already satisfied: regex>=2022.1.18 in /usr/local/lib/python3.11/dist-packages (from tiktoken->openai-whisper==20250625) (2024.11.6)\n",
            "Requirement already satisfied: requests>=2.26.0 in /usr/local/lib/python3.11/dist-packages (from tiktoken->openai-whisper==20250625) (2.32.3)\n",
            "Requirement already satisfied: filelock in /usr/local/lib/python3.11/dist-packages (from torch->openai-whisper==20250625) (3.18.0)\n",
            "Requirement already satisfied: typing-extensions>=4.10.0 in /usr/local/lib/python3.11/dist-packages (from torch->openai-whisper==20250625) (4.14.1)\n",
            "Requirement already satisfied: networkx in /usr/local/lib/python3.11/dist-packages (from torch->openai-whisper==20250625) (3.5)\n",
            "Requirement already satisfied: jinja2 in /usr/local/lib/python3.11/dist-packages (from torch->openai-whisper==20250625) (3.1.6)\n",
            "Requirement already satisfied: fsspec in /usr/local/lib/python3.11/dist-packages (from torch->openai-whisper==20250625) (2025.3.2)\n",
            "Collecting nvidia-cuda-nvrtc-cu12==12.4.127 (from torch->openai-whisper==20250625)\n",
            "  Downloading nvidia_cuda_nvrtc_cu12-12.4.127-py3-none-manylinux2014_x86_64.whl.metadata (1.5 kB)\n",
            "Collecting nvidia-cuda-runtime-cu12==12.4.127 (from torch->openai-whisper==20250625)\n",
            "  Downloading nvidia_cuda_runtime_cu12-12.4.127-py3-none-manylinux2014_x86_64.whl.metadata (1.5 kB)\n",
            "Collecting nvidia-cuda-cupti-cu12==12.4.127 (from torch->openai-whisper==20250625)\n",
            "  Downloading nvidia_cuda_cupti_cu12-12.4.127-py3-none-manylinux2014_x86_64.whl.metadata (1.6 kB)\n",
            "Collecting nvidia-cudnn-cu12==9.1.0.70 (from torch->openai-whisper==20250625)\n",
            "  Downloading nvidia_cudnn_cu12-9.1.0.70-py3-none-manylinux2014_x86_64.whl.metadata (1.6 kB)\n",
            "Collecting nvidia-cublas-cu12==12.4.5.8 (from torch->openai-whisper==20250625)\n",
            "  Downloading nvidia_cublas_cu12-12.4.5.8-py3-none-manylinux2014_x86_64.whl.metadata (1.5 kB)\n",
            "Collecting nvidia-cufft-cu12==11.2.1.3 (from torch->openai-whisper==20250625)\n",
            "  Downloading nvidia_cufft_cu12-11.2.1.3-py3-none-manylinux2014_x86_64.whl.metadata (1.5 kB)\n",
            "Collecting nvidia-curand-cu12==10.3.5.147 (from torch->openai-whisper==20250625)\n",
            "  Downloading nvidia_curand_cu12-10.3.5.147-py3-none-manylinux2014_x86_64.whl.metadata (1.5 kB)\n",
            "Collecting nvidia-cusolver-cu12==11.6.1.9 (from torch->openai-whisper==20250625)\n",
            "  Downloading nvidia_cusolver_cu12-11.6.1.9-py3-none-manylinux2014_x86_64.whl.metadata (1.6 kB)\n",
            "Collecting nvidia-cusparse-cu12==12.3.1.170 (from torch->openai-whisper==20250625)\n",
            "  Downloading nvidia_cusparse_cu12-12.3.1.170-py3-none-manylinux2014_x86_64.whl.metadata (1.6 kB)\n",
            "Requirement already satisfied: nvidia-cusparselt-cu12==0.6.2 in /usr/local/lib/python3.11/dist-packages (from torch->openai-whisper==20250625) (0.6.2)\n",
            "Requirement already satisfied: nvidia-nccl-cu12==2.21.5 in /usr/local/lib/python3.11/dist-packages (from torch->openai-whisper==20250625) (2.21.5)\n",
            "Requirement already satisfied: nvidia-nvtx-cu12==12.4.127 in /usr/local/lib/python3.11/dist-packages (from torch->openai-whisper==20250625) (12.4.127)\n",
            "Collecting nvidia-nvjitlink-cu12==12.4.127 (from torch->openai-whisper==20250625)\n",
            "  Downloading nvidia_nvjitlink_cu12-12.4.127-py3-none-manylinux2014_x86_64.whl.metadata (1.5 kB)\n",
            "Requirement already satisfied: sympy==1.13.1 in /usr/local/lib/python3.11/dist-packages (from torch->openai-whisper==20250625) (1.13.1)\n",
            "Requirement already satisfied: mpmath<1.4,>=1.1.0 in /usr/local/lib/python3.11/dist-packages (from sympy==1.13.1->torch->openai-whisper==20250625) (1.3.0)\n",
            "Requirement already satisfied: charset-normalizer<4,>=2 in /usr/local/lib/python3.11/dist-packages (from requests>=2.26.0->tiktoken->openai-whisper==20250625) (3.4.2)\n",
            "Requirement already satisfied: idna<4,>=2.5 in /usr/local/lib/python3.11/dist-packages (from requests>=2.26.0->tiktoken->openai-whisper==20250625) (3.10)\n",
            "Requirement already satisfied: urllib3<3,>=1.21.1 in /usr/local/lib/python3.11/dist-packages (from requests>=2.26.0->tiktoken->openai-whisper==20250625) (2.4.0)\n",
            "Requirement already satisfied: certifi>=2017.4.17 in /usr/local/lib/python3.11/dist-packages (from requests>=2.26.0->tiktoken->openai-whisper==20250625) (2025.7.9)\n",
            "Requirement already satisfied: MarkupSafe>=2.0 in /usr/local/lib/python3.11/dist-packages (from jinja2->torch->openai-whisper==20250625) (3.0.2)\n",
            "Downloading nvidia_cublas_cu12-12.4.5.8-py3-none-manylinux2014_x86_64.whl (363.4 MB)\n",
            "\u001b[2K   \u001b[90m━━━━━━━━━━━━━━━━━━━━━━━━━━━━━━━━━━━━━━━━\u001b[0m \u001b[32m363.4/363.4 MB\u001b[0m \u001b[31m3.9 MB/s\u001b[0m eta \u001b[36m0:00:00\u001b[0m\n",
            "\u001b[?25hDownloading nvidia_cuda_cupti_cu12-12.4.127-py3-none-manylinux2014_x86_64.whl (13.8 MB)\n",
            "\u001b[2K   \u001b[90m━━━━━━━━━━━━━━━━━━━━━━━━━━━━━━━━━━━━━━━━\u001b[0m \u001b[32m13.8/13.8 MB\u001b[0m \u001b[31m84.5 MB/s\u001b[0m eta \u001b[36m0:00:00\u001b[0m\n",
            "\u001b[?25hDownloading nvidia_cuda_nvrtc_cu12-12.4.127-py3-none-manylinux2014_x86_64.whl (24.6 MB)\n",
            "\u001b[2K   \u001b[90m━━━━━━━━━━━━━━━━━━━━━━━━━━━━━━━━━━━━━━━━\u001b[0m \u001b[32m24.6/24.6 MB\u001b[0m \u001b[31m71.4 MB/s\u001b[0m eta \u001b[36m0:00:00\u001b[0m\n",
            "\u001b[?25hDownloading nvidia_cuda_runtime_cu12-12.4.127-py3-none-manylinux2014_x86_64.whl (883 kB)\n",
            "\u001b[2K   \u001b[90m━━━━━━━━━━━━━━━━━━━━━━━━━━━━━━━━━━━━━━━━\u001b[0m \u001b[32m883.7/883.7 kB\u001b[0m \u001b[31m52.5 MB/s\u001b[0m eta \u001b[36m0:00:00\u001b[0m\n",
            "\u001b[?25hDownloading nvidia_cudnn_cu12-9.1.0.70-py3-none-manylinux2014_x86_64.whl (664.8 MB)\n",
            "\u001b[2K   \u001b[90m━━━━━━━━━━━━━━━━━━━━━━━━━━━━━━━━━━━━━━━━\u001b[0m \u001b[32m664.8/664.8 MB\u001b[0m \u001b[31m2.3 MB/s\u001b[0m eta \u001b[36m0:00:00\u001b[0m\n",
            "\u001b[?25hDownloading nvidia_cufft_cu12-11.2.1.3-py3-none-manylinux2014_x86_64.whl (211.5 MB)\n",
            "\u001b[2K   \u001b[90m━━━━━━━━━━━━━━━━━━━━━━━━━━━━━━━━━━━━━━━━\u001b[0m \u001b[32m211.5/211.5 MB\u001b[0m \u001b[31m5.5 MB/s\u001b[0m eta \u001b[36m0:00:00\u001b[0m\n",
            "\u001b[?25hDownloading nvidia_curand_cu12-10.3.5.147-py3-none-manylinux2014_x86_64.whl (56.3 MB)\n",
            "\u001b[2K   \u001b[90m━━━━━━━━━━━━━━━━━━━━━━━━━━━━━━━━━━━━━━━━\u001b[0m \u001b[32m56.3/56.3 MB\u001b[0m \u001b[31m19.5 MB/s\u001b[0m eta \u001b[36m0:00:00\u001b[0m\n",
            "\u001b[?25hDownloading nvidia_cusolver_cu12-11.6.1.9-py3-none-manylinux2014_x86_64.whl (127.9 MB)\n",
            "\u001b[2K   \u001b[90m━━━━━━━━━━━━━━━━━━━━━━━━━━━━━━━━━━━━━━━━\u001b[0m \u001b[32m127.9/127.9 MB\u001b[0m \u001b[31m7.4 MB/s\u001b[0m eta \u001b[36m0:00:00\u001b[0m\n",
            "\u001b[?25hDownloading nvidia_cusparse_cu12-12.3.1.170-py3-none-manylinux2014_x86_64.whl (207.5 MB)\n",
            "\u001b[2K   \u001b[90m━━━━━━━━━━━━━━━━━━━━━━━━━━━━━━━━━━━━━━━━\u001b[0m \u001b[32m207.5/207.5 MB\u001b[0m \u001b[31m5.5 MB/s\u001b[0m eta \u001b[36m0:00:00\u001b[0m\n",
            "\u001b[?25hDownloading nvidia_nvjitlink_cu12-12.4.127-py3-none-manylinux2014_x86_64.whl (21.1 MB)\n",
            "\u001b[2K   \u001b[90m━━━━━━━━━━━━━━━━━━━━━━━━━━━━━━━━━━━━━━━━\u001b[0m \u001b[32m21.1/21.1 MB\u001b[0m \u001b[31m77.7 MB/s\u001b[0m eta \u001b[36m0:00:00\u001b[0m\n",
            "\u001b[?25hBuilding wheels for collected packages: openai-whisper\n",
            "  Building wheel for openai-whisper (pyproject.toml) ... \u001b[?25l\u001b[?25hdone\n",
            "  Created wheel for openai-whisper: filename=openai_whisper-20250625-py3-none-any.whl size=803979 sha256=21c0721b3e9921b5bcee87c7504530ab3457a90be611e08c33b007bdcc82c6bb\n",
            "  Stored in directory: /tmp/pip-ephem-wheel-cache-p2ijpwyt/wheels/1f/1d/98/9583695e6695a6ac0ad42d87511097dce5ba486647dbfecb0e\n",
            "Successfully built openai-whisper\n",
            "Installing collected packages: nvidia-nvjitlink-cu12, nvidia-curand-cu12, nvidia-cufft-cu12, nvidia-cuda-runtime-cu12, nvidia-cuda-nvrtc-cu12, nvidia-cuda-cupti-cu12, nvidia-cublas-cu12, nvidia-cusparse-cu12, nvidia-cudnn-cu12, nvidia-cusolver-cu12, openai-whisper\n",
            "  Attempting uninstall: nvidia-nvjitlink-cu12\n",
            "    Found existing installation: nvidia-nvjitlink-cu12 12.5.82\n",
            "    Uninstalling nvidia-nvjitlink-cu12-12.5.82:\n",
            "      Successfully uninstalled nvidia-nvjitlink-cu12-12.5.82\n",
            "  Attempting uninstall: nvidia-curand-cu12\n",
            "    Found existing installation: nvidia-curand-cu12 10.3.6.82\n",
            "    Uninstalling nvidia-curand-cu12-10.3.6.82:\n",
            "      Successfully uninstalled nvidia-curand-cu12-10.3.6.82\n",
            "  Attempting uninstall: nvidia-cufft-cu12\n",
            "    Found existing installation: nvidia-cufft-cu12 11.2.3.61\n",
            "    Uninstalling nvidia-cufft-cu12-11.2.3.61:\n",
            "      Successfully uninstalled nvidia-cufft-cu12-11.2.3.61\n",
            "  Attempting uninstall: nvidia-cuda-runtime-cu12\n",
            "    Found existing installation: nvidia-cuda-runtime-cu12 12.5.82\n",
            "    Uninstalling nvidia-cuda-runtime-cu12-12.5.82:\n",
            "      Successfully uninstalled nvidia-cuda-runtime-cu12-12.5.82\n",
            "  Attempting uninstall: nvidia-cuda-nvrtc-cu12\n",
            "    Found existing installation: nvidia-cuda-nvrtc-cu12 12.5.82\n",
            "    Uninstalling nvidia-cuda-nvrtc-cu12-12.5.82:\n",
            "      Successfully uninstalled nvidia-cuda-nvrtc-cu12-12.5.82\n",
            "  Attempting uninstall: nvidia-cuda-cupti-cu12\n",
            "    Found existing installation: nvidia-cuda-cupti-cu12 12.5.82\n",
            "    Uninstalling nvidia-cuda-cupti-cu12-12.5.82:\n",
            "      Successfully uninstalled nvidia-cuda-cupti-cu12-12.5.82\n",
            "  Attempting uninstall: nvidia-cublas-cu12\n",
            "    Found existing installation: nvidia-cublas-cu12 12.5.3.2\n",
            "    Uninstalling nvidia-cublas-cu12-12.5.3.2:\n",
            "      Successfully uninstalled nvidia-cublas-cu12-12.5.3.2\n",
            "  Attempting uninstall: nvidia-cusparse-cu12\n",
            "    Found existing installation: nvidia-cusparse-cu12 12.5.1.3\n",
            "    Uninstalling nvidia-cusparse-cu12-12.5.1.3:\n",
            "      Successfully uninstalled nvidia-cusparse-cu12-12.5.1.3\n",
            "  Attempting uninstall: nvidia-cudnn-cu12\n",
            "    Found existing installation: nvidia-cudnn-cu12 9.3.0.75\n",
            "    Uninstalling nvidia-cudnn-cu12-9.3.0.75:\n",
            "      Successfully uninstalled nvidia-cudnn-cu12-9.3.0.75\n",
            "  Attempting uninstall: nvidia-cusolver-cu12\n",
            "    Found existing installation: nvidia-cusolver-cu12 11.6.3.83\n",
            "    Uninstalling nvidia-cusolver-cu12-11.6.3.83:\n",
            "      Successfully uninstalled nvidia-cusolver-cu12-11.6.3.83\n",
            "Successfully installed nvidia-cublas-cu12-12.4.5.8 nvidia-cuda-cupti-cu12-12.4.127 nvidia-cuda-nvrtc-cu12-12.4.127 nvidia-cuda-runtime-cu12-12.4.127 nvidia-cudnn-cu12-9.1.0.70 nvidia-cufft-cu12-11.2.1.3 nvidia-curand-cu12-10.3.5.147 nvidia-cusolver-cu12-11.6.1.9 nvidia-cusparse-cu12-12.3.1.170 nvidia-nvjitlink-cu12-12.4.127 openai-whisper-20250625\n",
            "Get:1 https://cloud.r-project.org/bin/linux/ubuntu jammy-cran40/ InRelease [3,632 B]\n",
            "Hit:2 https://developer.download.nvidia.com/compute/cuda/repos/ubuntu2204/x86_64  InRelease\n",
            "Hit:3 http://archive.ubuntu.com/ubuntu jammy InRelease\n",
            "Get:4 https://r2u.stat.illinois.edu/ubuntu jammy InRelease [6,555 B]\n",
            "Get:5 http://archive.ubuntu.com/ubuntu jammy-updates InRelease [128 kB]\n",
            "Get:6 http://security.ubuntu.com/ubuntu jammy-security InRelease [129 kB]\n",
            "Get:7 https://r2u.stat.illinois.edu/ubuntu jammy/main amd64 Packages [2,757 kB]\n",
            "Hit:8 https://ppa.launchpadcontent.net/deadsnakes/ppa/ubuntu jammy InRelease\n",
            "Hit:9 https://ppa.launchpadcontent.net/graphics-drivers/ppa/ubuntu jammy InRelease\n",
            "Hit:10 https://ppa.launchpadcontent.net/ubuntugis/ppa/ubuntu jammy InRelease\n",
            "Get:11 https://r2u.stat.illinois.edu/ubuntu jammy/main all Packages [9,106 kB]\n",
            "Get:12 http://archive.ubuntu.com/ubuntu jammy-backports InRelease [127 kB]\n",
            "Get:13 http://archive.ubuntu.com/ubuntu jammy-updates/restricted amd64 Packages [4,963 kB]\n",
            "Get:14 http://security.ubuntu.com/ubuntu jammy-security/universe amd64 Packages [1,266 kB]\n",
            "Get:15 http://security.ubuntu.com/ubuntu jammy-security/main amd64 Packages [3,103 kB]\n",
            "Get:16 http://archive.ubuntu.com/ubuntu jammy-updates/main amd64 Packages [3,420 kB]\n",
            "Get:17 http://archive.ubuntu.com/ubuntu jammy-updates/universe amd64 Packages [1,569 kB]\n",
            "Fetched 26.6 MB in 3s (9,371 kB/s)\n",
            "Reading package lists... Done\n",
            "Building dependency tree... Done\n",
            "Reading state information... Done\n",
            "42 packages can be upgraded. Run 'apt list --upgradable' to see them.\n",
            "\u001b[1;33mW: \u001b[0mSkipping acquire of configured file 'main/source/Sources' as repository 'https://r2u.stat.illinois.edu/ubuntu jammy InRelease' does not seem to provide it (sources.list entry misspelt?)\u001b[0m\n",
            "Reading package lists... Done\n",
            "Building dependency tree... Done\n",
            "Reading state information... Done\n",
            "ffmpeg is already the newest version (7:4.4.2-0ubuntu0.22.04.1).\n",
            "0 upgraded, 0 newly installed, 0 to remove and 42 not upgraded.\n",
            "Requirement already satisfied: pydub in /usr/local/lib/python3.11/dist-packages (0.25.1)\n"
          ]
        }
      ],
      "source": [
        "# !pip install -U openai-whisper\n",
        "# -------------OR----------------\n",
        "!pip install git+https://github.com/openai/whisper.git\n",
        "\n",
        "# on Ubuntu or Debian\n",
        "!sudo apt update && sudo apt install ffmpeg\n",
        "\n",
        "!pip install pydub\n"
      ]
    },
    {
      "cell_type": "code",
      "source": [
        "import os\n",
        "import shutil\n",
        "import whisper\n",
        "\n",
        "model_name = \"medium\"\n",
        "cache_path = os.path.expanduser(f\"~/.cache/whisper/{model_name}.pt\")\n",
        "custom_model_dir = \"./whisper_model_dir\"\n",
        "custom_model_path = os.path.join(custom_model_dir, f\"{model_name}.pt\")\n",
        "\n",
        "# 1. Download model if not already cached\n",
        "if not os.path.exists(cache_path):\n",
        "    print(f\"Downloading {model_name} model...\")\n",
        "    model = whisper.load_model(model_name)\n",
        "else:\n",
        "    print(f\"{model_name}.pt already cached.\")\n",
        "\n",
        "# 2. Copy to custom folder\n",
        "os.makedirs(custom_model_dir, exist_ok=True)\n",
        "\n",
        "if not os.path.exists(custom_model_path):\n",
        "    shutil.copy(cache_path, custom_model_path)\n",
        "    print(f\"Model copied to: {custom_model_path}\")\n",
        "else:\n",
        "    print(\"Model already exists in custom folder.\")\n"
      ],
      "metadata": {
        "colab": {
          "base_uri": "https://localhost:8080/"
        },
        "id": "DQSt4tnm3TXE",
        "outputId": "3ea0620b-9064-47d6-a03c-d474979d1510"
      },
      "execution_count": null,
      "outputs": [
        {
          "output_type": "stream",
          "name": "stdout",
          "text": [
            "medium.pt already cached.\n",
            "Model already exists in custom folder.\n"
          ]
        }
      ]
    },
    {
      "cell_type": "code",
      "source": [
        "import os\n",
        "from pydub import AudioSegment\n",
        "from pydub.utils import make_chunks\n",
        "import whisper"
      ],
      "metadata": {
        "id": "0qOpKghE5rpu"
      },
      "execution_count": null,
      "outputs": []
    },
    {
      "cell_type": "code",
      "source": [
        "\n",
        "def transcribe_chunk(chunk, chunk_number, volume_boost_db=10):\n",
        "    chunk = chunk + volume_boost_db\n",
        "    chunk_name = f\"temp_chunk_{chunk_number}.wav\"\n",
        "    chunk.export(chunk_name, format=\"wav\")\n",
        "\n",
        "\n",
        "    result = model.transcribe(chunk_name,language=\"en\")  # ✅ handles full chunk automatically\n",
        "    os.remove(chunk_name)\n",
        "    return result[\"text\"]"
      ],
      "metadata": {
        "id": "ObCX-oxYznQj"
      },
      "execution_count": null,
      "outputs": []
    },
    {
      "cell_type": "code",
      "source": [
        "def transcribe_long_audio(file_path, chunk_length_ms=120000):  # 2-minute chunks\n",
        "    audio = AudioSegment.from_mp3(file_path)\n",
        "    chunks = make_chunks(audio, chunk_length_ms)\n",
        "\n",
        "    full_transcript = \"\"\n",
        "    for i, chunk in enumerate(chunks):\n",
        "        print(f\"Transcribing chunk {i+1} of {len(chunks)}...\")\n",
        "        chunk_transcript = transcribe_chunk(chunk, i)\n",
        "        full_transcript += chunk_transcript + \" \"\n",
        "\n",
        "    return full_transcript.strip()"
      ],
      "metadata": {
        "id": "Tqg3oyFXzqWJ"
      },
      "execution_count": null,
      "outputs": []
    },
    {
      "cell_type": "code",
      "source": [
        "# Usage\n",
        "mp3_file_path = \"/content/case_study.mp3\"\n",
        "transcription = transcribe_long_audio(mp3_file_path)\n",
        "print(transcription)\n",
        "\n",
        "# Save the transcription\n",
        "with open(\"transcription.txt\", \"w\") as f:\n",
        "    f.write(transcription)"
      ],
      "metadata": {
        "colab": {
          "base_uri": "https://localhost:8080/"
        },
        "id": "ULn_yNG6zwki",
        "outputId": "4a4fac91-469d-4260-aa86-9a56b7534339"
      },
      "execution_count": null,
      "outputs": [
        {
          "output_type": "stream",
          "name": "stdout",
          "text": [
            "Transcribing chunk 1 of 7...\n",
            "Transcribing chunk 2 of 7...\n",
            "Transcribing chunk 3 of 7...\n",
            "Transcribing chunk 4 of 7...\n",
            "Transcribing chunk 5 of 7...\n",
            "Transcribing chunk 6 of 7...\n",
            "Transcribing chunk 7 of 7...\n",
            "Hi Lucy, nice to meet you. So I understand that you were referred here by your GP because you've been feeling quite down recently. Yeah, I thought I should, I've been feeling quite bad for quite a while so I thought maybe it's time to see someone about it because I don't want to feel like this anymore. Okay, so from your notes I saw that you saw the GP about three months ago. Yeah. So how long have you been feeling down altogether? Quite a few months before that as well actually, but it's gotten pretty bad these past few months so that's kind of why I came. Okay, so has it got worse since you saw your GP? Yeah. Okay, so tell me how are things at the moment? Well I kind of started just feeling a bit low and wound up about things but I don't know, just recently I just can't really be bothered to do anything at all. I kind of find it hard to get motivated for things and I want to be, I really want to be better but it's just kind of reaching the end now where I just, I want to do something about it. Okay, so you said that you're feeling really down, really sad. Yeah. And you feel like you haven't got any motivation but are you okay? Yeah, I'm fine, sorry. Okay, and you haven't got any motivation but it sounds like you've put quite a lot of pressure on yourself to try and feel a bit better. Yeah, I just, it's kind of hard as well because there's not really anyone to talk about so I just kind of stay on my own trying to, I don't like to think about it.  but I just don't know. So you say you've been, you're feeling quite isolated, there's not many people around? Yeah, there's no one I can talk to about it. No one would listen or understand anyway. Okay, so I'm just gonna try and find out a little bit more about you. So I understand that you're an English student at uni. Yeah. And you live away from home with some friends, is that right? Yeah, I live here. Okay, so you don't live far from the uni. But you say you feel like, you live with your friends, but you don't feel like you can talk to them? Yeah, I mean, they're lovely. I get on really well with them, but I don't know. I just recently, whenever they wanna go out or stuff, I just, I don't wanna bring them down. I can't, they don't understand what I'm going through. They kind of, I don't know, they don't make fun of how I feel, but they don't really understand what it's like. I just, I don't wanna go out with them and bring them down or stuff. Okay, so it sounds, do you try and hide the way you're feeling from them? I guess, I mean, it's easier to hide it than to try and explain it all the time when no one really wants to know. Okay, so it sounds like you've been feeling down, you've been feeling unmotivated, you feel like you want to be better, but actually it sounds like you feel like you can't reach out for help, you can't speak to anybody. No, I don't really talk to my parents a lot either. Okay. I'm just gonna go back in time a little bit. I suppose I'm just wondering, when did all of this start? You said it's been going on for quite a few months. Yeah. I guess it kind of started when I was, actually when I was revising for my exams, I guess the stress, I put a lot of stress on myself. I think I've always wanted to do well for me and I guess for my parents, so the stress of exams, and it was also kind of hard because my parents were going through a bit of it.  troubled time then. Okay so this would be like last March, last April? Yeah I think so. Around that time so about six months ish and it sounds like a lot was happening so you had a lot of uni pressure on and you said that your parents were having marital problems? Yeah. Okay and it sounds like that was a real shock to you? Yeah I guess it was hard as well because I wasn't doing well at uni I think. I guess I just felt a bit guilty. I know it sounds silly but I felt like maybe if I could do better then they would get better but it just wasn't really happening. Okay so it sounds like you were trying to work hard and be more successful because you thought that that would make them happier and try and fix things? Yeah I wanted to make them feel better but it just kind of backfired a little I guess. How did it backfire? It just ended up with them getting worse and I've just been feeling worse since then. Okay so after the summer, after the exam period and how did that exam period go for you in the end? Not very well. Okay that's an awful lot of pressure to put on yourself. It's just annoying because I know I should have done better and I just didn't and I guess I beat myself up a lot about it. So you say I know I should have done better? Yeah. I mean I suppose that hearing it from my perspective I'm thinking it sounds like you had an awful lot going on at the time it would be understandable absolutely that you wouldn't do as well as normal. I suppose I'm just wondering if you have very high standards for yourself? Probably maybe more than other people. My parents have always kind of taught me not in a loving way I guess but  that you should do your best but also get the best. I agree with that. I think that's the right thing to think. But when I don't do that, I don't know. It annoys me a lot and I worry that it annoys them. So it sounds like you feel you should always do your best. Is that the word you used? Yeah. And that there isn't any kind of exceptions for that? No. So I can see then that that was a really difficult time for you and that was when your mood started to get lower and things are still quite bad now. What's the situation with your parents at the moment? I think it doesn't sound good. I don't really talk to them a lot. But I don't think they're going through very good things. I don't like to talk to them about it because it just makes me feel worse. But I don't think it's getting any better. Were you home over the summer? For a little bit, yeah. And how was that? Not very fun. No. It was quite tense all the time. It stressed me out more than relaxed me over the summer, I guess. Okay. Okay, so it sounds like quite a lot has been happening. You've been feeling very low. You've had uni pressure on. You've had problems with your parents' marriage. It sounds like you feel like you can't really reach out to anyone, that you can't understand, but you can't really reach out to your parents right now. You can't really confide in your friends. So I suppose I'm just wondering if you can tell me a bit more about how you've been feeling, say, this past week. Really not good, to be honest. I actually, if I don't have to, then I don't really leave the house or get out of bed. I can't find the motivation for the things I used to enjoy. I used to love doing sports or going out, and now I just prefer...  to lie in bed and not really do anything. Okay. I missed a few lectures this week that I should have gone to. Right, so I suppose I'm just wondering then, let's see if we can think about one thing, say a lecture. What kind of thoughts do you have about going to that lecture before it happens? I don't really see the point anymore. If I can't do as well as I should be doing, then what's the point in putting myself in those positions? I just, I can't be bothered anymore to try. It just stresses me out more than I need to. Okay, so it sounds like the kind of thoughts you've got in your head are, it's pointless, it's not worth it. Yeah. Do you have any other thoughts in your head when you're just at that point before you go to the lecture? I feel like, I don't know, I don't really even deserve to be here if I can't do well enough. I see all these other students who are doing well and doing better and want to be there. I don't know why I'm here even at uni, to be honest. So it sounds like you feel like you're not as good as other people here. Yeah. Okay. I'm just, sorry, is it okay if I take notes as we go through? It's just I'm trying to, I guess, understand what you're telling me and it helps me just to write it down and I'll share this with you later. Okay, so it sounds like those are some quite negative thoughts to have. You're kind of saying, you know, it feels like it's pointless, it's more effort than it's worth and I don't deserve to be here. I mean, when you have those thoughts, how do you feel? Very unworthy probably would be the best way to put it, kind of, I don't know, lower than normal because then it makes me think about all the...  the things that I should have been doing better. Okay, so what you described there then you said, I'm unworthy, I should be doing lots of things better. Those are kind of what I would call thoughts actually. I suppose I'm trying to understand what it feels like in your gut. What kind of emotions do you feel happier with? Do you feel sad? What kind of emotions are you feeling when you have those thoughts? Sad, not happiness. No, sad. Bit of kind of anger and frustration as well. Okay. I notice when you're kind of telling me this, and I know this is quite a heavy topic, but you're kind of laughing. And I suppose I wonder a little bit, are you a bit, you know, how do you feel about having these emotions, talking about these emotions? I guess embarrassed. I've never yet talked about it, so it's quite uncomfortable to be in this situation. Okay, well you're doing a great job, because I know that this can be difficult. Okay, so it sounds like some of the thoughts you're describing are, it's pointless, it's more than it's worth, I don't deserve to be here, I'm unworthy. And those kind of thoughts, it sounds like they just flip through your mind. And then you're kind of describing different emotions that those lead to. You're kind of describing sad, anger, frustration, embarrassed. What about in your body, what happens? How do you feel, kind of physically? I used to be, I think from those emotions, very wound up, very kind of stressed all the time. But recently it's just been a lot more draining than anything, just quite lethargic, and I just can't be bothered anymore, and my body reflects that. But then when I try and sleep, I just can't seem to have a satisfied night's sleep. It's really, really frustrating.  So it sounds like this is affecting you, it's draining you of your energy, like your body can't be bothered. I think that's a really good way of describing it. And you're noticing sleep problems as well. And then what do you do? So this is, so we're back to the point before the lecture. So you start having these thoughts, these emotions, and you know, your body, I guess it sounds like those thoughts are quite draining. So we're draining your energy. What then happens? What do you do next? I kind of focus on the negative thoughts, when I probably should not think about them, but I focus on them and then I don't really want to do anything. I kind of stay in bed or... So you think even more about those kind of worries that you have, so you do a bit of dwelling and you stay in bed. And it sounds like you don't, you haven't tried speaking to your friends about it. No. Or speaking to family. Okay, and then after you've done that, so after you've not gone to the lecture, you've stayed in bed, you kind of spent time, as you said, focusing on those thoughts, those negative thoughts. How do you feel after that? Do you feel better or do you feel worse? I guess I feel slightly worse, but then a bit numb in a way, kind of. Once you've felt that, because I do feel tired all the time, I just try and push it out and then you don't really think about anything and it's almost nicer that way than to keep focusing on how much you're getting wrong and how much you can't do stuff. Sometimes it's better just to not think about it at all. So it sounds like in some ways it's a bit of a relief to do that. Yeah. But in other ways maybe you think it might make things worse. Probably in the long run, yeah. Thank you.\n"
          ]
        }
      ]
    }
  ]
}